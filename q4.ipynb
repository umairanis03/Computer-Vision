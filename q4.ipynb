{
 "cells": [
  {
   "cell_type": "code",
   "execution_count": 112,
   "metadata": {
    "collapsed": true
   },
   "outputs": [
    {
     "data": {
      "text/plain": [
       "-1"
      ]
     },
     "execution_count": 121,
     "metadata": {},
     "output_type": "execute_result"
    }
   ],
   "source": [
    "import numpy as np\n",
    "import cv2\n",
    "import matplotlib.pyplot as plt\n"
   ]
  },
  {
   "cell_type": "code",
   "execution_count": 113,
   "metadata": {
    "collapsed": true
   },
   "outputs": [
    {
     "data": {
      "text/plain": [
       "-1"
      ]
     },
     "execution_count": 121,
     "metadata": {},
     "output_type": "execute_result"
    }
   ],
   "source": [
    "def conv(img, filter):\n",
    "    image = np.copy(img)\n",
    "    image_h = len(image)\n",
    "    image_w = len(image[0])\n",
    "\n",
    "    k_r = len(filter)\n",
    "    k_c = len(filter[0])\n",
    "    s = np.sum(filter)\n",
    "    left_p = int(k_c / 2)\n",
    "    right_p = int(k_c - left_p - 1)\n",
    "    top_p = int(k_r / 2)\n",
    "    bottom_p = k_r - top_p - 1\n",
    "\n",
    "    array = np.zeros(shape=(image_h + top_p + bottom_p, image_w + left_p + right_p))\n",
    "    for i in range(0, image_h + bottom_p + top_p):\n",
    "        for j in range(0, image_w + left_p + right_p):\n",
    "            if j < left_p or j >= left_p + image_w or i < top_p or i >= top_p + image_h:\n",
    "                array[i][j] = 0\n",
    "            else:\n",
    "                array[i][j] = image[i - top_p][j - left_p]\n",
    "\n",
    "    for i in range(0, len(array) - k_r + 1):\n",
    "        for j in range(0, len(array[0]) - k_c + 1):\n",
    "            image[i][j] = np.sum((filter * array[i:i + k_r, j:j + k_r]))\n",
    "\n",
    "    return image\n"
   ]
  },
  {
   "cell_type": "code",
   "execution_count": 119,
   "metadata": {
    "collapsed": true
   },
   "outputs": [
    {
     "data": {
      "text/plain": [
       "-1"
      ]
     },
     "execution_count": 121,
     "metadata": {},
     "output_type": "execute_result"
    }
   ],
   "source": [
    "def gaussian(h, w, sigma):\n",
    "    gFilter = np.zeros(shape=(h, w))\n",
    "    h1 = h // 2\n",
    "    w1 = w // 2\n",
    "    for i in range(-h1, h1 + 1):\n",
    "        for j in range(-w1, w1 + 1):\n",
    "            d = 2 * np.pi * (sigma ** 2)\n",
    "            n = np.exp(-(i ** 2 + j ** 2) / (2 * sigma ** 2))\n",
    "            gFilter[i + h1][j + w1] = (1 / d) * n\n",
    "    return gFilter\n"
   ]
  },
  {
   "cell_type": "code",
   "execution_count": 120,
   "metadata": {
    "collapsed": true
   },
   "outputs": [
    {
     "data": {
      "text/plain": [
       "-1"
      ]
     },
     "execution_count": 121,
     "metadata": {},
     "output_type": "execute_result"
    }
   ],
   "source": [
    "g7 = gaussian(7, 7, 1.5)\n",
    "\n",
    "img = cv2.imread('image_3.png', 0)\n",
    "fig = plt.figure()\n",
    "\n",
    "ax = fig.add_subplot(111)\n",
    "ax.imshow(img, interpolation=\"nearest\", cmap=plt.cm.gray)\n",
    "fig.tight_layout()\n",
    "plt.show()\n"
   ]
  },
  {
   "cell_type": "code",
   "execution_count": 121,
   "metadata": {
    "collapsed": true
   },
   "outputs": [
    {
     "data": {
      "text/plain": [
       "-1"
      ]
     },
     "execution_count": 121,
     "metadata": {},
     "output_type": "execute_result"
    }
   ],
   "source": [
    "img2 = cv2.filter2D(img, -1, g7)\n",
    "cv2.imshow(\"Gaussian Blur\", img2)\n",
    "cv2.waitKey(0)\n"
   ]
  },
  {
   "cell_type": "code",
   "execution_count": 117,
   "metadata": {
    "collapsed": true
   },
   "outputs": [
    {
     "data": {
      "text/plain": [
       "-1"
      ]
     },
     "execution_count": 121,
     "metadata": {},
     "output_type": "execute_result"
    }
   ],
   "source": [
    "\n",
    "imgN = np.copy(img)\n",
    "for i in range(0,len(img)):\n",
    "    for j in range(0, len(img[0])):\n",
    "        imgN[i][j] = abs(img[i][j]-img2[i][j])\n",
    "        \n",
    "# cv2.imshow(\"Subtracted Image\", imgN)\n",
    "# cv2.waitKey(0)\n",
    "\n",
    "fig = plt.figure()\n",
    "\n",
    "ax = fig.add_subplot(111)\n",
    "ax.imshow(imgN, interpolation = \"nearest\", cmap = plt.cm.gray)\n",
    "fig.tight_layout()\n",
    "plt.show()\n"
   ]
  },
  {
   "cell_type": "code",
   "execution_count": 118,
   "metadata": {
    "collapsed": true
   },
   "outputs": [
    {
     "data": {
      "text/plain": [
       "-1"
      ]
     },
     "execution_count": 121,
     "metadata": {},
     "output_type": "execute_result"
    }
   ],
   "source": [
    "img_ = np.copy(img)\n",
    "for i in range(0, len(imgN)):\n",
    "    for j in range(0, len(imgN[0])):\n",
    "        img_[i][j] = img[i][j] + imgN[i][j]\n",
    "        if (img_[i][j] < 0):\n",
    "            img_[i][j] = 0\n",
    "        elif (img_[i][j] > 255):\n",
    "            img_[i][j] = 255\n",
    "fig = plt.figure()\n",
    "\n",
    "ax = fig.add_subplot(111)\n",
    "ax.imshow(img_, interpolation=\"nearest\", cmap=plt.cm.gray)\n",
    "fig.tight_layout()\n",
    "plt.show()\n"
   ]
  },
  {
   "cell_type": "code",
   "execution_count": 54,
   "metadata": {},
   "outputs": [],
   "source": [
    ""
   ]
  },
  {
   "cell_type": "code",
   "execution_count": null,
   "metadata": {},
   "outputs": [],
   "source": []
  }
 ],
 "metadata": {
  "kernelspec": {
   "display_name": "Python 2",
   "language": "python",
   "name": "python2"
  },
  "language_info": {
   "codemirror_mode": {
    "name": "ipython",
    "version": 2
   },
   "file_extension": ".py",
   "mimetype": "text/x-python",
   "name": "python",
   "nbconvert_exporter": "python",
   "pygments_lexer": "ipython2",
   "version": "2.7.6"
  }
 },
 "nbformat": 4,
 "nbformat_minor": 0
}
