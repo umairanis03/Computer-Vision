{
 "cells": [
  {
   "cell_type": "code",
   "execution_count": 29,
   "metadata": {
    "collapsed": true
   },
   "outputs": [],
   "source": [
    "import numpy as np\n",
    "import cv2\n",
    "import matplotlib.pyplot as plt\n"
   ]
  },
  {
   "cell_type": "code",
   "execution_count": 60,
   "metadata": {
    "collapsed": true
   },
   "outputs": [],
   "source": [
    "def conv(img, filter):\n",
    "    image = np.copy(img)\n",
    "    image_h = len(image)\n",
    "    image_w = len(image[0])\n",
    "\n",
    "    k_r = len(filter)\n",
    "    k_c = len(filter[0])\n",
    "    s = np.sum(filter)\n",
    "    left_p = int(k_c / 2)\n",
    "    right_p = int(k_c - left_p - 1)\n",
    "    top_p = int(k_r / 2)\n",
    "    bottom_p = k_r - top_p - 1\n",
    "\n",
    "    array = np.zeros(shape=(image_h + top_p + bottom_p, image_w + left_p + right_p))\n",
    "    for i in range(0, image_h + bottom_p + top_p):\n",
    "        for j in range(0, image_w + left_p + right_p):\n",
    "            if j < left_p or j >= left_p + image_w or i < top_p or i >= top_p + image_h:\n",
    "                array[i][j] = 0\n",
    "            else:\n",
    "                array[i][j] = image[i - top_p][j - left_p]\n",
    "\n",
    "    for i in range(0, len(array) - k_r + 1):\n",
    "        for j in range(0, len(array[0]) - k_c + 1):\n",
    "            image[i][j] = np.sum((filter * array[i:i + k_r, j:j + k_r]))\n",
    "\n",
    "    return image\n"
   ]
  },
  {
   "cell_type": "code",
   "execution_count": 61,
   "metadata": {},
   "outputs": [],
   "source": [
    "def gaussian(h, w, sigma):\n",
    "    gFilter = np.zeros(shape=(h, w))\n",
    "    h1 = h // 2\n",
    "    w1 = w // 2\n",
    "    for i in range(-h1, h1 + 1):\n",
    "        for j in range(-w1, w1 + 1):\n",
    "            d = 2 * np.pi * (sigma ** 2)\n",
    "            n = np.exp(-(i ** 2 + j ** 2) / (2 * sigma ** 2))\n",
    "            gFilter[i + h1][j + w1] = (1 / d) * n\n",
    "    return gFilter\n"
   ]
  },
  {
   "cell_type": "code",
   "execution_count": null,
   "metadata": {},
   "outputs": [],
   "source": [
    "img = cv2.imread('image_1.jpg', 0)\n",
    "g3 = gaussian(3, 3, 1.0)\n",
    "g5 = gaussian(5, 5, 1.0)\n",
    "g11 = gaussian(11, 11, 1.0)\n",
    "g32 = gaussian(5, 5, 2)\n",
    "img2 = conv(img, g3)\n",
    "\n",
    "fig = plt.figure()\n",
    "\n",
    "ax = fig.add_subplot(111)\n",
    "ax.imshow(img2, interpolation=\"nearest\", cmap=plt.cm.gray)\n",
    "fig.tight_layout()\n",
    "plt.show()\n"
   ]
  },
  {
   "cell_type": "code",
   "execution_count": 59,
   "metadata": {},
   "outputs": [],
   "source": [
    "img3 = conv(img, g5)\n",
    "img3 = conv(img, g5)\n",
    "\n",
    "fig = plt.figure()\n",
    "\n",
    "ax = fig.add_subplot(111)\n",
    "ax.imshow(img3, interpolation=\"nearest\", cmap=plt.cm.gray)\n",
    "fig.tight_layout()\n",
    "plt.show()\n"
   ]
  },
  {
   "cell_type": "code",
   "execution_count": 7,
   "metadata": {},
   "outputs": [],
   "source": [
    "img4 = conv(img, g11)\n",
    "cv2.imshow(\"image11\", img4)\n",
    "cv2.waitKey(0)\n"
   ]
  },
  {
   "cell_type": "code",
   "execution_count": null,
   "metadata": {},
   "outputs": [],
   "source": [
    "img5 = img3 = cv2.filter2D(img, -1, g32)\n",
    "cv2.imshow(\"image32\", img5)\n",
    "cv2.waitKey(0)\n"
   ]
  }
 ],
 "metadata": {
  "kernelspec": {
   "display_name": "Python 2",
   "language": "python",
   "name": "python2"
  },
  "language_info": {
   "codemirror_mode": {
    "name": "ipython",
    "version": 2
   },
   "file_extension": ".py",
   "mimetype": "text/x-python",
   "name": "python",
   "nbconvert_exporter": "python",
   "pygments_lexer": "ipython2",
   "version": "2.7.6"
  }
 },
 "nbformat": 4,
 "nbformat_minor": 0
}
