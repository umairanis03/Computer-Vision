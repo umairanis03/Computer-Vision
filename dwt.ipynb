{
 "cells": [
  {
   "cell_type": "code",
   "execution_count": 2,
   "metadata": {
    "collapsed": true
   },
   "outputs": [
    {
     "name": "stderr",
     "output_type": "stream",
     "text": [
      "C:\\Users\\Umair Anis\\PycharmProjects\\CV\\A1\\venv\\lib\\site-packages\\ipykernel_launcher.py:10: FutureWarning: Using a non-tuple sequence for multidimensional indexing is deprecated; use `arr[tuple(seq)]` instead of `arr[seq]`. In the future this will be interpreted as an array index, `arr[np.array(seq)]`, which will result either in an error or a different result.\n  # Remove the CWD from sys.path while we load stuff.\nC:\\Users\\Umair Anis\\PycharmProjects\\CV\\A1\\venv\\lib\\site-packages\\ipykernel_launcher.py:16: FutureWarning: Using a non-tuple sequence for multidimensional indexing is deprecated; use `arr[tuple(seq)]` instead of `arr[seq]`. In the future this will be interpreted as an array index, `arr[np.array(seq)]`, which will result either in an error or a different result.\n  app.launch_new_instance()\n"
     ]
    }
   ],
   "source": [
    "import numpy as np\n",
    "import cv2\n",
    "import pywt\n",
    "import statistics\n",
    "import matplotlib as plt\n"
   ]
  },
  {
   "cell_type": "code",
   "execution_count": 3,
   "metadata": {
    "collapsed": true
   },
   "outputs": [
    {
     "name": "stderr",
     "output_type": "stream",
     "text": [
      "C:\\Users\\Umair Anis\\PycharmProjects\\CV\\A1\\venv\\lib\\site-packages\\ipykernel_launcher.py:10: FutureWarning: Using a non-tuple sequence for multidimensional indexing is deprecated; use `arr[tuple(seq)]` instead of `arr[seq]`. In the future this will be interpreted as an array index, `arr[np.array(seq)]`, which will result either in an error or a different result.\n  # Remove the CWD from sys.path while we load stuff.\nC:\\Users\\Umair Anis\\PycharmProjects\\CV\\A1\\venv\\lib\\site-packages\\ipykernel_launcher.py:16: FutureWarning: Using a non-tuple sequence for multidimensional indexing is deprecated; use `arr[tuple(seq)]` instead of `arr[seq]`. In the future this will be interpreted as an array index, `arr[np.array(seq)]`, which will result either in an error or a different result.\n  app.launch_new_instance()\n"
     ]
    }
   ],
   "source": [
    "def Medianconv(img, k_r, k_c):\n",
    "    image = np.copy(img)\n",
    "    image_h = len(image)\n",
    "    image_w = len(image[0])\n",
    "\n",
    "    left_p = int(k_c / 2)\n",
    "    right_p = int(k_c - left_p - 1)\n",
    "    top_p = int(k_r / 2)\n",
    "    bottom_p = k_r - top_p - 1\n",
    "\n",
    "    array = np.zeros(shape=(image_h + top_p + bottom_p, image_w + left_p + right_p))\n",
    "    for i in range(0, image_h + bottom_p + top_p):\n",
    "        for j in range(0, image_w + left_p + right_p):\n",
    "            if j < left_p or j >= left_p + image_w or i < top_p or i >= top_p + image_h:\n",
    "                array[i][j] = 0\n",
    "            else:\n",
    "                array[i][j] = image[i - top_p][j - left_p]\n",
    "\n",
    "    for i in range(0, len(array) - k_r + 1):\n",
    "        for j in range(0, len(array[0]) - k_c + 1):\n",
    "\n",
    "            li = []\n",
    "\n",
    "            for p in range(0, k_r):\n",
    "                for q in range(0, k_c):\n",
    "                    li.append(array[p + i][q + j])\n",
    "            image[i][j] = statistics.median(li)\n",
    "\n",
    "    return image\n"
   ]
  },
  {
   "cell_type": "code",
   "execution_count": 4,
   "metadata": {
    "collapsed": true
   },
   "outputs": [
    {
     "name": "stderr",
     "output_type": "stream",
     "text": [
      "C:\\Users\\Umair Anis\\PycharmProjects\\CV\\A1\\venv\\lib\\site-packages\\ipykernel_launcher.py:10: FutureWarning: Using a non-tuple sequence for multidimensional indexing is deprecated; use `arr[tuple(seq)]` instead of `arr[seq]`. In the future this will be interpreted as an array index, `arr[np.array(seq)]`, which will result either in an error or a different result.\n  # Remove the CWD from sys.path while we load stuff.\nC:\\Users\\Umair Anis\\PycharmProjects\\CV\\A1\\venv\\lib\\site-packages\\ipykernel_launcher.py:16: FutureWarning: Using a non-tuple sequence for multidimensional indexing is deprecated; use `arr[tuple(seq)]` instead of `arr[seq]`. In the future this will be interpreted as an array index, `arr[np.array(seq)]`, which will result either in an error or a different result.\n  app.launch_new_instance()\n"
     ]
    }
   ],
   "source": [
    "def noisy(image):\n",
    "    s_vs_p = 0.5\n",
    "    amount = 0.05\n",
    "    out = np.copy(image)\n",
    "    # Salt mode\n",
    "    f = len(image) * len(image[0])\n",
    "    num_salt = np.ceil(amount * f * s_vs_p)\n",
    "    coords = [np.random.randint(0, i - 1, int(num_salt))\n",
    "              for i in image.shape]\n",
    "    out[coords] = 255\n",
    "\n",
    "    # Pepper mode\n",
    "    num_pepper = np.ceil(amount * f * (1. - s_vs_p))\n",
    "    coords = [np.random.randint(0, i - 1, int(num_pepper))\n",
    "              for i in image.shape]\n",
    "    out[coords] = 0\n",
    "    return out\n"
   ]
  },
  {
   "cell_type": "code",
   "execution_count": 5,
   "metadata": {
    "collapsed": true
   },
   "outputs": [
    {
     "name": "stderr",
     "output_type": "stream",
     "text": [
      "C:\\Users\\Umair Anis\\PycharmProjects\\CV\\A1\\venv\\lib\\site-packages\\ipykernel_launcher.py:10: FutureWarning: Using a non-tuple sequence for multidimensional indexing is deprecated; use `arr[tuple(seq)]` instead of `arr[seq]`. In the future this will be interpreted as an array index, `arr[np.array(seq)]`, which will result either in an error or a different result.\n  # Remove the CWD from sys.path while we load stuff.\nC:\\Users\\Umair Anis\\PycharmProjects\\CV\\A1\\venv\\lib\\site-packages\\ipykernel_launcher.py:16: FutureWarning: Using a non-tuple sequence for multidimensional indexing is deprecated; use `arr[tuple(seq)]` instead of `arr[seq]`. In the future this will be interpreted as an array index, `arr[np.array(seq)]`, which will result either in an error or a different result.\n  app.launch_new_instance()\n"
     ]
    }
   ],
   "source": [
    "import matplotlib.pyplot as plt\n",
    "\n",
    "kernel = np.array([[1, 1, 1], [1, -8, 1], [1, 1, 1]])\n",
    "img = cv2.imread('image_3.png', 0)\n",
    "\n",
    "laplacian = cv2.filter2D(img, -1, kernel)\n",
    "noise = noisy(img) + laplacian\n",
    "\n",
    "final_img = noise\n",
    "\n",
    "for i in range(0, len(final_img)):\n",
    "    for j in range(0, len(final_img[0])):\n",
    "        if final_img[i][j] < 0:\n",
    "            final_img[i][j] = 0\n",
    "        elif final_img[i][j] > 255:\n",
    "            final_img[i][j] = 255\n",
    "\n",
    "fig = plt.figure()\n",
    "\n",
    "ax = fig.add_subplot(111)\n",
    "ax.imshow(noise, interpolation=\"nearest\", cmap=plt.cm.gray)\n",
    "fig.tight_layout()\n",
    "plt.show()\n",
    "coeff = pywt.dwt2(final_img, 'haar')\n",
    "LL, (LH, HL, HH) = coeff\n",
    "LLN = Medianconv(LL, 3, 3)\n",
    "HH = (pywt.threshold(HH, value=-5, mode=\"less\"))\n",
    "# # LH = ( pywt.threshold( LH, value=-5, mode=\"less\" )  )\n",
    "# HL = ( pywt.threshold( HL, value=-5, mode=\"less\" )  )\n",
    "\n",
    "\n",
    "coeff2 = LLN, (LH, HL, HH)\n",
    "\n",
    "inverted = pywt.idwt2(coeff2, 'haar')\n",
    "\n",
    "fig = plt.figure()\n",
    "\n",
    "ax = fig.add_subplot(111)\n",
    "ax.imshow(inverted, interpolation=\"nearest\", cmap=plt.cm.gray)\n",
    "fig.tight_layout()\n",
    "plt.show()\n"
   ]
  },
  {
   "cell_type": "code",
   "execution_count": 47,
   "metadata": {},
   "outputs": [],
   "source": []
  },
  {
   "cell_type": "code",
   "execution_count": null,
   "metadata": {},
   "outputs": [],
   "source": []
  }
 ],
 "metadata": {
  "kernelspec": {
   "display_name": "Python 2",
   "language": "python",
   "name": "python2"
  },
  "language_info": {
   "codemirror_mode": {
    "name": "ipython",
    "version": 2
   },
   "file_extension": ".py",
   "mimetype": "text/x-python",
   "name": "python",
   "nbconvert_exporter": "python",
   "pygments_lexer": "ipython2",
   "version": "2.7.6"
  }
 },
 "nbformat": 4,
 "nbformat_minor": 0
}
