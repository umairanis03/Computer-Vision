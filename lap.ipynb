{
 "cells": [
  {
   "cell_type": "code",
   "execution_count": 1,
   "metadata": {
    "collapsed": true
   },
   "outputs": [],
   "source": [
    "import numpy as np\n",
    "import cv2\n",
    "import matplotlib.pyplot as plt\n",
    "import imageio\n"
   ]
  },
  {
   "cell_type": "code",
   "execution_count": 2,
   "metadata": {
    "collapsed": true
   },
   "outputs": [],
   "source": [
    "def conv(img, filter):\n",
    "    image = np.copy(img)\n",
    "    image_h = len(image)\n",
    "    image_w = len(image[0])\n",
    "    \n",
    "    k_r = len(filter)\n",
    "    k_c = len(filter[0])\n",
    "    s = np.sum(filter)\n",
    "    left_p = int(k_c / 2)\n",
    "    right_p = int(k_c - left_p - 1)\n",
    "    top_p = int(k_r / 2)\n",
    "    bottom_p = k_r - top_p - 1\n",
    "\n",
    "    array = np.zeros(shape=(image_h + top_p + bottom_p, image_w + left_p + right_p))\n",
    "    for i in range(0, image_h + bottom_p + top_p):\n",
    "        for j in range(0, image_w + left_p + right_p):\n",
    "            if j < left_p or j >= left_p + image_w or i < top_p or i >= top_p + image_h:\n",
    "                array[i][j] = 0\n",
    "            else:\n",
    "                array[i][j] = image[i - top_p][j - left_p]\n",
    "\n",
    "    for i in range(0, len(array) - k_r + 1):\n",
    "        for j in range(0, len(array[0]) - k_c + 1):           \n",
    "            image[i][j]= int (np.sum((filter * array[i:i + k_r, j:j + k_r]))) \n",
    "\n",
    "    min_image = np.min(image)\n",
    "    max_image = np.max(image)\n",
    "    image = np.int_(\n",
    "        (255 * ((image-min_image)/(max_image-min_image))))\n",
    "    return image\n"
   ]
  },
  {
   "cell_type": "code",
   "execution_count": 3,
   "metadata": {
    "collapsed": true
   },
   "outputs": [],
   "source": [
    "def gaussian(h, w, sigma):\n",
    "    gFilter = np.zeros(shape=(h, w))\n",
    "    h1 = h // 2\n",
    "    w1 = w // 2\n",
    "    for i in range(-h1, h1 + 1):\n",
    "        for j in range(-w1, w1 + 1):\n",
    "            d = 2 * np.pi * (sigma ** 2)\n",
    "            n = np.exp(-(i ** 2 + j ** 2) / (2 * sigma ** 2))\n",
    "            gFilter[i + h1][j + w1] = (1 / d) * n\n",
    "    return gFilter\n",
    "\n"
   ]
  },
  {
   "cell_type": "code",
   "execution_count": 4,
   "metadata": {
    "collapsed": true
   },
   "outputs": [],
   "source": [
    "kernel = np.array([[0, 1, 0], [1, -4, 1], [0, 1, 0]])\n",
    "kernel_sharpen = np.array([[0, -1, 0], [-1, 5, -1], [0, -1, 0]])\n"
   ]
  },
  {
   "cell_type": "code",
   "execution_count": 8,
   "metadata": {
    "collapsed": true
   },
   "outputs": [],
   "source": [
    "\n",
    "img = cv2.imread('image_2.png',0)\n",
    "img_lap = conv(img,kernel)\n",
    "# img = np.array(imageio.imread('image_2.png'))\n",
    "# img_sharpen = conv(img[:,:,0],kernel_sharpen)\n",
    "# img_sharpen2 = conv(img[:,:,1],kernel_sharpen)\n",
    "# img_sharpen3 = conv(img[:,:,2],kernel_sharpen)\n",
    "# rgb = np.stack((img_sharpen,img_sharpen2,img_sharpen3),axis=-1)\n",
    "fig = plt.figure()\n",
    "\n",
    "ax = fig.add_subplot(111)\n",
    "ax.imshow(img_lap, interpolation = \"nearest\", cmap = plt.cm.gray)\n",
    "fig.tight_layout()\n",
    "plt.show()\n",
    "\n"
   ]
  },
  {
   "cell_type": "code",
   "execution_count": 7,
   "metadata": {
    "collapsed": true
   },
   "outputs": [],
   "source": [
    "img_sharpen_lap = conv(img_sharpen,kernel)\n",
    "for i in range(0,len(img_sharpen_lap)):\n",
    "    for j in range(0,len(img_sharpen_lap[0])):\n",
    "        if img_sharpen_lap[i][j] <100:\n",
    "            img_sharpen_lap[i][j] =0\n",
    "        elif img_sharpen_lap[i][j]>200:\n",
    "            \n",
    "            img_sharpen_lap[i][j]=200\n",
    "cv2.imshow(\"Sharpen Image then Lap \",img_sharpen_lap)\n",
    "cv2.waitKey(0)"
   ]
  },
  {
   "cell_type": "code",
   "execution_count": 5,
   "metadata": {
    "collapsed": true
   },
   "outputs": [
    {
     "ename": "NameError",
     "evalue": "name 'img' is not defined",
     "traceback": [
      "\u001b[1;31m---------------------------------------------------------------------------\u001b[0m",
      "\u001b[1;31mNameError\u001b[0m                                 Traceback (most recent call last)",
      "\u001b[1;32m<ipython-input-5-48d1c78ec680>\u001b[0m in \u001b[0;36m<module>\u001b[1;34m\u001b[0m\n\u001b[1;32m----> 1\u001b[1;33m \u001b[0mnew_img\u001b[0m \u001b[1;33m=\u001b[0m \u001b[0mconv\u001b[0m\u001b[1;33m(\u001b[0m\u001b[0mimg\u001b[0m\u001b[1;33m,\u001b[0m \u001b[0mkernel\u001b[0m\u001b[1;33m)\u001b[0m\u001b[1;33m\u001b[0m\u001b[1;33m\u001b[0m\u001b[0m\n\u001b[0m\u001b[0;32m      2\u001b[0m \u001b[1;33m\u001b[0m\u001b[0m\n\u001b[0;32m      3\u001b[0m \u001b[1;32mfor\u001b[0m \u001b[0mi\u001b[0m \u001b[1;32min\u001b[0m \u001b[0mrange\u001b[0m\u001b[1;33m(\u001b[0m\u001b[1;36m0\u001b[0m\u001b[1;33m,\u001b[0m\u001b[0mlen\u001b[0m\u001b[1;33m(\u001b[0m\u001b[0mnew_img\u001b[0m\u001b[1;33m)\u001b[0m\u001b[1;33m)\u001b[0m\u001b[1;33m:\u001b[0m\u001b[1;33m\u001b[0m\u001b[1;33m\u001b[0m\u001b[0m\n\u001b[0;32m      4\u001b[0m     \u001b[1;32mfor\u001b[0m \u001b[0mj\u001b[0m \u001b[1;32min\u001b[0m \u001b[0mrange\u001b[0m\u001b[1;33m(\u001b[0m\u001b[1;36m0\u001b[0m\u001b[1;33m,\u001b[0m\u001b[0mlen\u001b[0m\u001b[1;33m(\u001b[0m\u001b[0mnew_img\u001b[0m\u001b[1;33m[\u001b[0m\u001b[1;36m0\u001b[0m\u001b[1;33m]\u001b[0m\u001b[1;33m)\u001b[0m\u001b[1;33m)\u001b[0m\u001b[1;33m:\u001b[0m\u001b[1;33m\u001b[0m\u001b[1;33m\u001b[0m\u001b[0m\n\u001b[0;32m      5\u001b[0m         \u001b[1;32mif\u001b[0m \u001b[0mnew_img\u001b[0m\u001b[1;33m[\u001b[0m\u001b[0mi\u001b[0m\u001b[1;33m]\u001b[0m\u001b[1;33m[\u001b[0m\u001b[0mj\u001b[0m\u001b[1;33m]\u001b[0m \u001b[1;33m<\u001b[0m\u001b[1;36m100\u001b[0m\u001b[1;33m:\u001b[0m\u001b[1;33m\u001b[0m\u001b[1;33m\u001b[0m\u001b[0m\n",
      "\u001b[1;31mNameError\u001b[0m: name 'img' is not defined"
     ],
     "output_type": "error"
    }
   ],
   "source": [
    "new_img = conv(img, kernel)\n",
    "\n",
    "for i in range(0,len(new_img)):\n",
    "    for j in range(0,len(new_img[0])):\n",
    "        if new_img[i][j] <100:\n",
    "            new_img[i][j] =0\n",
    "        elif new_img[i][j]>200:\n",
    "            new_img[i][j]=200\n",
    "        \n",
    "cv2.imshow(\"New Image\",new_img)\n",
    "cv2.waitKey(0)\n"
   ]
  },
  {
   "cell_type": "code",
   "execution_count": null,
   "metadata": {
    "collapsed": true
   },
   "outputs": [
    {
     "name": "stdout",
     "output_type": "stream",
     "text": [
      "1\n"
     ]
    },
    {
     "name": "stderr",
     "output_type": "stream",
     "text": [
      "C:\\Users\\Umair Anis\\PycharmProjects\\CV\\A1\\venv\\lib\\site-packages\\ipykernel_launcher.py:4: RuntimeWarning: overflow encountered in ubyte_scalars\n  after removing the cwd from sys.path.\n"
     ]
    },
    {
     "data": {
      "text/plain": [
       "-1"
      ]
     },
     "execution_count": 80,
     "metadata": {},
     "output_type": "execute_result"
    }
   ],
   "source": [
    "\n",
    "img3 = np.copy(img)\n",
    "for i in range(0, len(img3)):\n",
    "    for j in range(0, len(img3[0])):\n",
    "        img3[i][j] = abs(img[i][j]-new_img[i][j])\n",
    "        if (img3[i][j] < 10):\n",
    "            img3[i][j] = 0\n",
    "        elif (img3[i][j] > 240):\n",
    "            img3[i][j] = 255\n",
    "\n",
    "cv2.imshow(\"Laplacian Sharpening\", img3)\n",
    "cv2.waitKey(0)\n"
   ]
  },
  {
   "cell_type": "code",
   "execution_count": 80,
   "metadata": {
    "collapsed": true
   },
   "outputs": [
    {
     "name": "stdout",
     "output_type": "stream",
     "text": [
      "1\n"
     ]
    },
    {
     "name": "stderr",
     "output_type": "stream",
     "text": [
      "C:\\Users\\Umair Anis\\PycharmProjects\\CV\\A1\\venv\\lib\\site-packages\\ipykernel_launcher.py:4: RuntimeWarning: overflow encountered in ubyte_scalars\n  after removing the cwd from sys.path.\n"
     ]
    },
    {
     "data": {
      "text/plain": [
       "-1"
      ]
     },
     "execution_count": 80,
     "metadata": {},
     "output_type": "execute_result"
    }
   ],
   "source": [
    "img3_sharp = conv(img3,kernel_sharpen)\n",
    "for i in range(0, len(img3)):\n",
    "    for j in range(0, len(img3[0])):\n",
    "        img3[i][j] = abs(img[i][j]-new_img[i][j])\n",
    "        if (img3_sharp[i][j] < 10):\n",
    "            img3_sharp[i][j] = 0\n",
    "        elif (img3_sharp[i][j] > 240):\n",
    "            img3_sharp[i][j] = 255\n",
    "\n",
    "cv2.imshow(\"Laplacian Sharpening\", img3_sharp)\n",
    "cv2.waitKey(0)\n"
   ]
  },
  {
   "cell_type": "code",
   "execution_count": 67,
   "metadata": {},
   "outputs": [],
   "source": []
  },
  {
   "cell_type": "code",
   "execution_count": null,
   "metadata": {},
   "outputs": [],
   "source": []
  }
 ],
 "metadata": {
  "kernelspec": {
   "display_name": "Python 2",
   "language": "python",
   "name": "python2"
  },
  "language_info": {
   "codemirror_mode": {
    "name": "ipython",
    "version": 2
   },
   "file_extension": ".py",
   "mimetype": "text/x-python",
   "name": "python",
   "nbconvert_exporter": "python",
   "pygments_lexer": "ipython2",
   "version": "2.7.6"
  }
 },
 "nbformat": 4,
 "nbformat_minor": 0
}
