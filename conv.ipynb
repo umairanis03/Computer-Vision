{
 "cells": [
  {
   "cell_type": "code",
   "execution_count": null,
   "metadata": {},
   "outputs": [],
   "source": [
    "import cv2\n",
    "import numpy as np\n",
    "\n",
    "\n"
   ]
  },
  {
   "cell_type": "code",
   "execution_count": 13,
   "metadata": {},
   "outputs": [],
   "source": [
    "def conv(img, filter):\n",
    "    image = np.copy(img)\n",
    "    image_h = len(image)\n",
    "    image_w = len(image[0])\n",
    "\n",
    "    k_r = len(filter)\n",
    "    k_c = len(filter[0])\n",
    "\n",
    "    left_p = int(k_c / 2)\n",
    "    right_p = int(k_c - left_p - 1)\n",
    "    top_p = int(k_r / 2)\n",
    "    bottom_p = k_r - top_p - 1\n",
    "\n",
    "    array = np.zeros(shape=(image_h + top_p + bottom_p, image_w + left_p + right_p))\n",
    "    for i in range(0, image_h + bottom_p + top_p):\n",
    "        for j in range(0, image_w + left_p + right_p):\n",
    "            if j < left_p or j >= left_p + image_w or i < top_p or i >= top_p + image_h:\n",
    "                array[i][j] = 0\n",
    "            else:\n",
    "                array[i][j] = image[i - top_p][j - left_p]\n",
    "\n",
    "    for i in range(0, len(array) - k_r + 1):\n",
    "        for j in range(0, len(array[0]) - k_c + 1):\n",
    "            # sum = 0\n",
    "            # \n",
    "            # for p in range(0, k_r):\n",
    "            #     for q in range(0, k_c):\n",
    "            #         sum += filter[p][q] * array[p + i][q + j]\n",
    "            # image[i][j] = sum\n",
    "            image[i][j] = np.sum(filter * image[i:i + k_r, j:j + k_c])\n",
    "\n",
    "    return image\n"
   ]
  },
  {
   "cell_type": "code",
   "execution_count": 9,
   "metadata": {},
   "outputs": [],
   "source": [
    ""
   ]
  },
  {
   "cell_type": "code",
   "execution_count": null,
   "metadata": {},
   "outputs": [],
   "source": [
    "img = cv2.imread('image_1.jpg', 0)\n",
    "\n",
    "# cv2.imshow(\"image\", img)\n",
    "# cv2.waitKey(0)\n",
    "\n",
    "filter = (np.array([[1, 0], [0, 1]]))\n",
    "\n",
    "img2 = (np.array([[1, 0, 0], [0, 0, 1], [0, 0, -1]]))\n",
    "\n",
    "print(conv(img2, filter))\n",
    "\n",
    "\n"
   ]
  }
 ],
 "metadata": {
  "kernelspec": {
   "display_name": "Python 2",
   "language": "python",
   "name": "python2"
  },
  "language_info": {
   "codemirror_mode": {
    "name": "ipython",
    "version": 2
   },
   "file_extension": ".py",
   "mimetype": "text/x-python",
   "name": "python",
   "nbconvert_exporter": "python",
   "pygments_lexer": "ipython2",
   "version": "2.7.6"
  }
 },
 "nbformat": 4,
 "nbformat_minor": 0
}
